{
  "nbformat": 4,
  "nbformat_minor": 0,
  "metadata": {
    "colab": {
      "provenance": []
    },
    "kernelspec": {
      "name": "python3",
      "display_name": "Python 3"
    },
    "language_info": {
      "name": "python"
    }
  },
  "cells": [
    {
      "cell_type": "code",
      "execution_count": 21,
      "metadata": {
        "colab": {
          "base_uri": "https://localhost:8080/"
        },
        "id": "bRrTLCGy0UyN",
        "outputId": "0d7f0e60-31e9-4470-a121-b08e0f131716"
      },
      "outputs": [
        {
          "output_type": "stream",
          "name": "stdout",
          "text": [
            "Requirement already satisfied: python-docx in /usr/local/lib/python3.11/dist-packages (1.1.2)\n",
            "Requirement already satisfied: lxml>=3.1.0 in /usr/local/lib/python3.11/dist-packages (from python-docx) (5.3.1)\n",
            "Requirement already satisfied: typing-extensions>=4.9.0 in /usr/local/lib/python3.11/dist-packages (from python-docx) (4.12.2)\n",
            "Requirement already satisfied: python-pptx in /usr/local/lib/python3.11/dist-packages (1.0.2)\n",
            "Requirement already satisfied: Pillow>=3.3.2 in /usr/local/lib/python3.11/dist-packages (from python-pptx) (11.1.0)\n",
            "Requirement already satisfied: XlsxWriter>=0.5.7 in /usr/local/lib/python3.11/dist-packages (from python-pptx) (3.2.2)\n",
            "Requirement already satisfied: lxml>=3.1.0 in /usr/local/lib/python3.11/dist-packages (from python-pptx) (5.3.1)\n",
            "Requirement already satisfied: typing-extensions>=4.9.0 in /usr/local/lib/python3.11/dist-packages (from python-pptx) (4.12.2)\n",
            "Requirement already satisfied: pypdf in /usr/local/lib/python3.11/dist-packages (5.3.0)\n",
            "Requirement already satisfied: beautifulsoup4 in /usr/local/lib/python3.11/dist-packages (4.13.3)\n",
            "Requirement already satisfied: requests in /usr/local/lib/python3.11/dist-packages (2.32.3)\n",
            "Requirement already satisfied: soupsieve>1.2 in /usr/local/lib/python3.11/dist-packages (from beautifulsoup4) (2.6)\n",
            "Requirement already satisfied: typing-extensions>=4.0.0 in /usr/local/lib/python3.11/dist-packages (from beautifulsoup4) (4.12.2)\n",
            "Requirement already satisfied: charset-normalizer<4,>=2 in /usr/local/lib/python3.11/dist-packages (from requests) (3.4.1)\n",
            "Requirement already satisfied: idna<4,>=2.5 in /usr/local/lib/python3.11/dist-packages (from requests) (3.10)\n",
            "Requirement already satisfied: urllib3<3,>=1.21.1 in /usr/local/lib/python3.11/dist-packages (from requests) (2.3.0)\n",
            "Requirement already satisfied: certifi>=2017.4.17 in /usr/local/lib/python3.11/dist-packages (from requests) (2025.1.31)\n",
            "Requirement already satisfied: transformers in /usr/local/lib/python3.11/dist-packages (4.48.3)\n",
            "Requirement already satisfied: filelock in /usr/local/lib/python3.11/dist-packages (from transformers) (3.17.0)\n",
            "Requirement already satisfied: huggingface-hub<1.0,>=0.24.0 in /usr/local/lib/python3.11/dist-packages (from transformers) (0.28.1)\n",
            "Requirement already satisfied: numpy>=1.17 in /usr/local/lib/python3.11/dist-packages (from transformers) (1.26.4)\n",
            "Requirement already satisfied: packaging>=20.0 in /usr/local/lib/python3.11/dist-packages (from transformers) (24.2)\n",
            "Requirement already satisfied: pyyaml>=5.1 in /usr/local/lib/python3.11/dist-packages (from transformers) (6.0.2)\n",
            "Requirement already satisfied: regex!=2019.12.17 in /usr/local/lib/python3.11/dist-packages (from transformers) (2024.11.6)\n",
            "Requirement already satisfied: requests in /usr/local/lib/python3.11/dist-packages (from transformers) (2.32.3)\n",
            "Requirement already satisfied: tokenizers<0.22,>=0.21 in /usr/local/lib/python3.11/dist-packages (from transformers) (0.21.0)\n",
            "Requirement already satisfied: safetensors>=0.4.1 in /usr/local/lib/python3.11/dist-packages (from transformers) (0.5.2)\n",
            "Requirement already satisfied: tqdm>=4.27 in /usr/local/lib/python3.11/dist-packages (from transformers) (4.67.1)\n",
            "Requirement already satisfied: fsspec>=2023.5.0 in /usr/local/lib/python3.11/dist-packages (from huggingface-hub<1.0,>=0.24.0->transformers) (2024.10.0)\n",
            "Requirement already satisfied: typing-extensions>=3.7.4.3 in /usr/local/lib/python3.11/dist-packages (from huggingface-hub<1.0,>=0.24.0->transformers) (4.12.2)\n",
            "Requirement already satisfied: charset-normalizer<4,>=2 in /usr/local/lib/python3.11/dist-packages (from requests->transformers) (3.4.1)\n",
            "Requirement already satisfied: idna<4,>=2.5 in /usr/local/lib/python3.11/dist-packages (from requests->transformers) (3.10)\n",
            "Requirement already satisfied: urllib3<3,>=1.21.1 in /usr/local/lib/python3.11/dist-packages (from requests->transformers) (2.3.0)\n",
            "Requirement already satisfied: certifi>=2017.4.17 in /usr/local/lib/python3.11/dist-packages (from requests->transformers) (2025.1.31)\n"
          ]
        }
      ],
      "source": [
        "!pip install python-docx\n",
        "!pip install python-pptx\n",
        "!pip install pypdf\n",
        "!pip install beautifulsoup4 requests\n",
        "!pip install transformers"
      ]
    },
    {
      "cell_type": "code",
      "source": [
        "from docx import Document\n",
        "\n",
        "# Load the document\n",
        "doc = Document(\"AI Basd lab 1.docx\")\n",
        "\n",
        "# Extract text from paragraphs\n",
        "text = \" \".join([para.text for para in doc.paragraphs]).strip()\n",
        "\n",
        "# Print the extracted text\n",
        "print(text)\n"
      ],
      "metadata": {
        "colab": {
          "base_uri": "https://localhost:8080/"
        },
        "id": "7asm98Qq1d5S",
        "outputId": "eef10af2-a99c-455c-f75f-0c1d52665dc5"
      },
      "execution_count": 22,
      "outputs": [
        {
          "output_type": "stream",
          "name": "stdout",
          "text": [
            "Hello World this is Youssef Badreldin from AIU B10-212\n"
          ]
        }
      ]
    },
    {
      "cell_type": "code",
      "source": [
        "# Get the first word\n",
        "first_word = text.split()[0] if text else \"No text found\"\n",
        "\n",
        "# Print the first word\n",
        "print(first_word)\n"
      ],
      "metadata": {
        "colab": {
          "base_uri": "https://localhost:8080/"
        },
        "id": "hSagClRH3fEQ",
        "outputId": "bc6474d8-23ce-46ea-9626-40f94c83d04c"
      },
      "execution_count": 23,
      "outputs": [
        {
          "output_type": "stream",
          "name": "stdout",
          "text": [
            "Hello\n"
          ]
        }
      ]
    },
    {
      "cell_type": "code",
      "source": [
        "from pptx import Presentation\n",
        "\n",
        "# Load the PowerPoint file\n",
        "ppt = Presentation(\"AI Basd lab 1.pptx\")\n",
        "\n",
        "# Extract text from all slides\n",
        "text = \" \".join([shape.text for slide in ppt.slides for shape in slide.shapes if hasattr(shape, \"text\")]).strip()\n",
        "\n",
        "# Print the first word\n",
        "print(text)\n"
      ],
      "metadata": {
        "colab": {
          "base_uri": "https://localhost:8080/"
        },
        "id": "51dd_ttJ4tta",
        "outputId": "6cb1debb-71d5-48d3-a808-eceb27ff74f2"
      },
      "execution_count": 24,
      "outputs": [
        {
          "output_type": "stream",
          "name": "stdout",
          "text": [
            "Sample PowerPoint File St. Cloud Technical College This is a Sample Slide Here is an outline of bulleted points\n",
            "You can print out PPT files as handouts using the \u000bPRINT > \u000b  PRINT WHAT > HANDOUTS option\n"
          ]
        }
      ]
    },
    {
      "cell_type": "code",
      "source": [
        "# Get the first word\n",
        "first_word = text.split()[0] if text else \"No text found\"\n",
        "\n",
        "# Print the first word\n",
        "print(first_word)"
      ],
      "metadata": {
        "colab": {
          "base_uri": "https://localhost:8080/"
        },
        "id": "1qcb09cu5_Rb",
        "outputId": "f800e67f-256b-45b0-f8bc-f6658cece280"
      },
      "execution_count": 25,
      "outputs": [
        {
          "output_type": "stream",
          "name": "stdout",
          "text": [
            "Sample\n"
          ]
        }
      ]
    },
    {
      "cell_type": "code",
      "source": [
        "from pypdf import PdfReader\n",
        "\n",
        "# Load the PDF file\n",
        "reader = PdfReader(\"AI Basd lab 1.pdf\")\n",
        "\n",
        "# Extract text from all pages\n",
        "text = \" \".join([page.extract_text() for page in reader.pages if page.extract_text()]).strip()\n",
        "\n",
        "# Print the first word\n",
        "print(text)\n"
      ],
      "metadata": {
        "colab": {
          "base_uri": "https://localhost:8080/"
        },
        "id": "xoi6qIvB7wBA",
        "outputId": "87d0fa56-35c8-4b69-c9e4-a21600818c92"
      },
      "execution_count": 26,
      "outputs": [
        {
          "output_type": "stream",
          "name": "stdout",
          "text": [
            "Dummy PDF file\n"
          ]
        }
      ]
    },
    {
      "cell_type": "code",
      "source": [
        "# Get the first word (handling empty text)\n",
        "first_word = text.split()[0] if text else \"No text found\"\n",
        "\n",
        "# Print the first word\n",
        "print(first_word)"
      ],
      "metadata": {
        "colab": {
          "base_uri": "https://localhost:8080/"
        },
        "id": "TM2loOgP8RI0",
        "outputId": "d1cbc1da-3eef-4e6d-dfe2-b6df832cdb94"
      },
      "execution_count": 27,
      "outputs": [
        {
          "output_type": "stream",
          "name": "stdout",
          "text": [
            "Dummy\n"
          ]
        }
      ]
    },
    {
      "cell_type": "code",
      "source": [
        "from bs4 import BeautifulSoup\n",
        "\n",
        "# Load the HTML file\n",
        "with open(\"AI Basd lab 1.html\", \"r\", encoding=\"utf-8\") as file:\n",
        "    html_content = file.read()\n",
        "\n",
        "# Parse the HTML\n",
        "soup = BeautifulSoup(html_content, \"html.parser\")\n",
        "\n",
        "# Extract all text from the HTML\n",
        "text = soup.get_text(separator=\" \", strip=True)\n",
        "\n",
        "# Print the first word\n",
        "print(text)\n"
      ],
      "metadata": {
        "colab": {
          "base_uri": "https://localhost:8080/"
        },
        "id": "TvMtgat-8UfC",
        "outputId": "9f8f7a6c-5cc8-4f1f-eec3-dd9e1d36b1a7"
      },
      "execution_count": 28,
      "outputs": [
        {
          "output_type": "stream",
          "name": "stdout",
          "text": [
            "Enter a title, displayed at the top of the window. Enter the main heading, usually the same as the title. Be bold in stating your key points. Put them in a list: The first item in your list The second item; italicize key words Improve your image by including an image. Add a link to your favorite Web site .\n",
            "Break up your page with a horizontal rule or two. Finally, link to another page in your own Web site. © Wiley Publishing, 2011\n"
          ]
        }
      ]
    },
    {
      "cell_type": "code",
      "source": [
        "# Get the first word (handle empty content)\n",
        "first_word = text.split()[0] if text else \"No text found\"\n",
        "\n",
        "# Print the first word\n",
        "print(first_word)"
      ],
      "metadata": {
        "colab": {
          "base_uri": "https://localhost:8080/"
        },
        "id": "WestXILi9s1R",
        "outputId": "1596b38d-b35c-41f1-daf5-e877e15901d0"
      },
      "execution_count": 29,
      "outputs": [
        {
          "output_type": "stream",
          "name": "stdout",
          "text": [
            "Enter\n"
          ]
        }
      ]
    },
    {
      "cell_type": "code",
      "source": [
        "import os\n",
        "from docx import Document\n",
        "from pptx import Presentation\n",
        "from pypdf import PdfReader\n",
        "from bs4 import BeautifulSoup\n",
        "\n",
        "def extract_text(filename):\n",
        "    ext = os.path.splitext(filename)[1].lower()\n",
        "\n",
        "    if ext == \".docx\":\n",
        "        doc = Document(filename)\n",
        "        text = \" \".join([para.text for para in doc.paragraphs]).strip()\n",
        "\n",
        "    elif ext == \".pptx\":\n",
        "        ppt = Presentation(filename)\n",
        "        text = \" \".join([shape.text for slide in ppt.slides for shape in slide.shapes if hasattr(shape, \"text\")]).strip()\n",
        "\n",
        "    elif ext == \".pdf\":\n",
        "        reader = PdfReader(filename)\n",
        "        text = \" \".join([page.extract_text() for page in reader.pages if page.extract_text()]).strip()\n",
        "\n",
        "    elif ext == \".html\":\n",
        "        with open(filename, \"r\", encoding=\"utf-8\") as file:\n",
        "            html_content = file.read()\n",
        "        soup = BeautifulSoup(html_content, \"html.parser\")\n",
        "        text = soup.get_text(separator=\" \", strip=True)\n",
        "\n",
        "    else:\n",
        "        return \"Unsupported file format\"\n",
        "\n",
        "    return text\n",
        "    return ext\n"
      ],
      "metadata": {
        "id": "DVnyD1T9959T"
      },
      "execution_count": 30,
      "outputs": []
    },
    {
      "cell_type": "code",
      "source": [
        "filename = \"AI Basd lab 1.pdf\"\n",
        "text = extract_text(filename)\n",
        "ext = os.path.splitext(filename)[1].lower()\n",
        "print(text)"
      ],
      "metadata": {
        "colab": {
          "base_uri": "https://localhost:8080/"
        },
        "id": "JzViOFBv-xx5",
        "outputId": "5ef07d83-55f6-4e7f-99ed-672addb1a343"
      },
      "execution_count": 31,
      "outputs": [
        {
          "output_type": "stream",
          "name": "stdout",
          "text": [
            "Dummy PDF file\n"
          ]
        }
      ]
    },
    {
      "cell_type": "code",
      "source": [
        "import os.path, time\n",
        "from pathlib import Path\n",
        "file_creation_time = datetime.fromtimestamp(os.path.getctime(filename)).isoformat()\n",
        "file_path = str(Path(filename))"
      ],
      "metadata": {
        "id": "1w4uSeyqHlAi"
      },
      "execution_count": 32,
      "outputs": []
    },
    {
      "cell_type": "code",
      "source": [
        "import json\n",
        "from datetime import datetime\n",
        "\n",
        "# Create the dictionary with the necessary data\n",
        "data = {\n",
        "    \"type\": ext,\n",
        "    \"text\": text,\n",
        "    \"metadata\": {\n",
        "        \"author\": \"Youssef Badreldin\",\n",
        "        \"date\": file_creation_time,\n",
        "        \"path\": file_path\n",
        "    }\n",
        "}\n",
        "\n",
        "# Convert the dictionary to a JSON string\n",
        "json_output = json.dumps(data, indent=4, ensure_ascii=False)\n",
        "\n",
        "# Print the JSON output\n",
        "print(json_output)\n"
      ],
      "metadata": {
        "colab": {
          "base_uri": "https://localhost:8080/"
        },
        "id": "1scDFRDWDeNQ",
        "outputId": "b7e6ed08-3b7d-4064-a192-fdf8f322d575"
      },
      "execution_count": 33,
      "outputs": [
        {
          "output_type": "stream",
          "name": "stdout",
          "text": [
            "{\n",
            "    \"type\": \".pdf\",\n",
            "    \"text\": \"Dummy PDF file\",\n",
            "    \"metadata\": {\n",
            "        \"author\": \"Youssef Badreldin\",\n",
            "        \"date\": \"2025-02-20T06:34:51.682437\",\n",
            "        \"path\": \"AI Basd lab 1.pdf\"\n",
            "    }\n",
            "}\n"
          ]
        }
      ]
    },
    {
      "cell_type": "code",
      "source": [
        "output_filename = \"output.json\"\n",
        "with open(output_filename, \"w\", encoding=\"utf-8\") as json_file:\n",
        "    json.dump(data, json_file, indent=4, ensure_ascii=False)\n",
        "    print(f\"JSON saved to {output_filename}\")"
      ],
      "metadata": {
        "id": "L1gBpsVwKER7",
        "colab": {
          "base_uri": "https://localhost:8080/"
        },
        "outputId": "533f42fc-5389-42bd-fa1c-0794f7c2be2b"
      },
      "execution_count": 36,
      "outputs": [
        {
          "output_type": "stream",
          "name": "stdout",
          "text": [
            "JSON saved to output.json\n"
          ]
        }
      ]
    }
  ]
}